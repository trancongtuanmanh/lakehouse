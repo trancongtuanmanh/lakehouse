{
 "cells": [
  {
   "cell_type": "code",
   "execution_count": null,
   "metadata": {},
   "outputs": [],
   "source": [
    "import yaml\n",
    "from pyspark.sql import SparkSession\n",
    "from delta import *\n",
    "from settings import jar_path, key_path, sources\n",
    "\n",
    "builder = SparkSession.builder\\\n",
    "    .appName('spark-bigquery-demo') \\\n",
    "    .config(\"spark.sql.extensions\", \"io.delta.sql.DeltaSparkSessionExtension\") \\\n",
    "    .config(\"spark.sql.catalog.spark_catalog\", \"org.apache.spark.sql.delta.catalog.DeltaCatalog\") \\\n",
    "    .config(\"spark.sql.warehouse.dir\", \"gs://lakehouse-prod/spark-warehouse/\")\n",
    "\n",
    "spark = configure_spark_with_delta_pip(builder).getOrCreate()"
   ]
  },
  {
   "cell_type": "code",
   "execution_count": 19,
   "metadata": {},
   "outputs": [
    {
     "name": "stderr",
     "output_type": "stream",
     "text": [
      "[Stage 68:>                                                         (0 + 1) / 1]\r"
     ]
    },
    {
     "name": "stdout",
     "output_type": "stream",
     "text": [
      "+-------+\n",
      "|   Wifi|\n",
      "+-------+\n",
      "|   null|\n",
      "|   null|\n",
      "|  u'no'|\n",
      "|u'free'|\n",
      "|   null|\n",
      "+-------+\n",
      "only showing top 5 rows\n",
      "\n"
     ]
    },
    {
     "name": "stderr",
     "output_type": "stream",
     "text": [
      "                                                                                \r"
     ]
    }
   ],
   "source": [
    "spark.sql(\"select attributes.Wifi from bronze.business;\").show(5)"
   ]
  },
  {
   "cell_type": "code",
   "execution_count": 11,
   "metadata": {},
   "outputs": [
    {
     "name": "stderr",
     "output_type": "stream",
     "text": [
      "[Stage 26:>                                                         (0 + 1) / 1]\r"
     ]
    },
    {
     "name": "stdout",
     "output_type": "stream",
     "text": [
      "+-------------+---------------+---------------+----------------+--------------+---------------+---------------+---------------+-----------------+----------------+------------------+-----------------+----+----------+----+--------------------+-----+------+------------+------+--------------------+-------------------+\n",
      "|average_stars|compliment_cool|compliment_cute|compliment_funny|compliment_hot|compliment_list|compliment_more|compliment_note|compliment_photos|compliment_plain|compliment_profile|compliment_writer|cool|     elite|fans|             friends|funny|  name|review_count|useful|             user_id|      yelping_since|\n",
      "+-------------+---------------+---------------+----------------+--------------+---------------+---------------+---------------+-----------------+----------------+------------------+-----------------+----+----------+----+--------------------+-----+------+------------+------+--------------------+-------------------+\n",
      "|         4.73|              1|              0|               1|             0|              0|              0|              0|                0|               0|                 0|                0|   1|          |   1|5-r8vdBoqMoHdHsAM...|    3|  Adam|          15|     5|kERcdSEyDPbczsFrH...|2016-07-03 16:48:45|\n",
      "|         4.06|              6|              0|               6|             1|              0|              0|              0|                0|               2|                 0|                0|  21|20,20,2021|   2|Ke9QZmiYy41WIIphE...|    9|Albert|          92|    63|kdF05ql0bquraoqcT...|2011-10-03 23:56:41|\n",
      "|          5.0|              0|              0|               0|             0|              0|              0|              0|                0|               0|                 0|                0|   0|          |   0|E74krWIR4M8-ARb1d...|    0|   Jim|           3|     3|Cvonl-MoX85Y7TyBA...|2011-06-07 23:21:24|\n",
      "|         4.64|             14|              0|              14|             0|              0|              0|              3|                0|               5|                 0|                0|  23|20,20,2021|   2|fN6yGf17ZVHh6vMgL...|    9| Aditi|          73|    36|04ZoQVzOSLkSmnFYj...|2013-07-08 21:35:12|\n",
      "|          3.6|              7|              0|               7|             0|              0|              2|              1|                0|               4|                 0|                1|  51|          |   5|Ve0LUwcrzxL7w0RYg...|   63|  John|         144|   165|MK-qfzJNlq9xC6pc5...|2007-09-06 04:32:29|\n",
      "+-------------+---------------+---------------+----------------+--------------+---------------+---------------+---------------+-----------------+----------------+------------------+-----------------+----+----------+----+--------------------+-----+------+------------+------+--------------------+-------------------+\n",
      "only showing top 5 rows\n",
      "\n"
     ]
    },
    {
     "name": "stderr",
     "output_type": "stream",
     "text": [
      "                                                                                \r"
     ]
    }
   ],
   "source": [
    "spark.sql(\"select * from bronze.user;\").show(5)"
   ]
  },
  {
   "cell_type": "code",
   "execution_count": 13,
   "metadata": {},
   "outputs": [
    {
     "name": "stderr",
     "output_type": "stream",
     "text": [
      "[Stage 38:>                                                         (0 + 1) / 1]\r"
     ]
    },
    {
     "name": "stdout",
     "output_type": "stream",
     "text": [
      "+--------------------+--------------------+\n",
      "|         business_id|                date|\n",
      "+--------------------+--------------------+\n",
      "|SGiSLM8r8rT3oWa6q...|2012-12-16 23:08:...|\n",
      "|SGigkw0zqh4TTXfer...|2011-12-18 18:13:...|\n",
      "|SGjX-JihpCo8IHGfJ...|2012-02-04 00:33:...|\n",
      "|SGk0C8RrR7sPKYq2Z...|2012-11-11 22:46:...|\n",
      "|SGlFcy13cDajEQ_ci...|2012-02-23 18:36:...|\n",
      "+--------------------+--------------------+\n",
      "only showing top 5 rows\n",
      "\n"
     ]
    },
    {
     "name": "stderr",
     "output_type": "stream",
     "text": [
      "                                                                                \r"
     ]
    }
   ],
   "source": [
    "spark.sql(\"select * from bronze.checkin;\").show(5)"
   ]
  },
  {
   "cell_type": "code",
   "execution_count": 14,
   "metadata": {},
   "outputs": [
    {
     "name": "stderr",
     "output_type": "stream",
     "text": [
      "[Stage 47:>                                                         (0 + 1) / 1]\r"
     ]
    },
    {
     "name": "stdout",
     "output_type": "stream",
     "text": [
      "+--------------------+----------------+-------------------+--------------------+--------------------+\n",
      "|         business_id|compliment_count|               date|                text|             user_id|\n",
      "+--------------------+----------------+-------------------+--------------------+--------------------+\n",
      "|Tdri3C3E2A93twBL3...|               0|2018-07-08 01:19:27|The sushi was pre...|BnoprwbCO9b-nBDqi...|\n",
      "|yaEC_LAfaoY4yZyub...|               0|2016-11-17 04:52:28|Call ahead for yo...|KlI_NEqRNmw6LVFf4...|\n",
      "|uXKygoHoGly8OqINL...|               0|2015-05-09 01:41:14|Doesn't take rese...|HpXm_E_MRQdN_Rv4c...|\n",
      "|az4WbjTUNkMS0XCSA...|               0|2017-08-28 15:14:24|Very old and out ...|IFM9VzljyIE-z8WNs...|\n",
      "|wEksWwS7a0leoaZkV...|               0|2016-07-12 17:53:25|Love this place. ...|IFM9VzljyIE-z8WNs...|\n",
      "+--------------------+----------------+-------------------+--------------------+--------------------+\n",
      "only showing top 5 rows\n",
      "\n"
     ]
    },
    {
     "name": "stderr",
     "output_type": "stream",
     "text": [
      "                                                                                \r"
     ]
    }
   ],
   "source": [
    "spark.sql(\"select * from bronze.tip;\").show(5)"
   ]
  },
  {
   "cell_type": "code",
   "execution_count": 17,
   "metadata": {},
   "outputs": [
    {
     "name": "stderr",
     "output_type": "stream",
     "text": [
      "[Stage 62:=====================================================>  (38 + 2) / 40]\r"
     ]
    },
    {
     "name": "stdout",
     "output_type": "stream",
     "text": [
      "+--------------------+----+-------------------+-----+--------------------+-----+--------------------+------+--------------------+\n",
      "|         business_id|cool|               date|funny|           review_id|stars|                text|useful|             user_id|\n",
      "+--------------------+----+-------------------+-----+--------------------+-----+--------------------+------+--------------------+\n",
      "|VItkA7pL82rCZdxHH...|   0|2022-01-19 19:48:45|    0|6BXQO_LAmMolJ5BYi...|  5.0|This was amongst ...|     0|IH0ToaZ8hJXO2pVie...|\n",
      "|J0joPXxmN-_9Lzafs...|   0|2022-01-19 19:48:25|    0|gUkdqUCMJCJ38HVlL...|  5.0|Love love love th...|     0|i1PMqye40QWNkJ0MY...|\n",
      "|jVg-KTXEFIeAq47DT...|   0|2022-01-19 19:48:19|    0|3wqrZowVYwSPEh8p5...|  5.0|Jerry did an exce...|     0|3TQKP7KlNRdrI2gOk...|\n",
      "|M88FFZZ2o_7QKpCFA...|   0|2022-01-19 19:48:16|    0|L0KaPI67DcTN4wwqf...|  5.0|I LOVE Subaru of ...|     0|2Mb0st9WVyccaz6sK...|\n",
      "|XDMno4l95AXgYOd0y...|   0|2022-01-19 19:48:13|    0|11yPqFYtkACY7TWKc...|  5.0|Such yummy food a...|     0|lmiiFd9KC15fs4xtE...|\n",
      "+--------------------+----+-------------------+-----+--------------------+-----+--------------------+------+--------------------+\n",
      "only showing top 5 rows\n",
      "\n"
     ]
    },
    {
     "name": "stderr",
     "output_type": "stream",
     "text": [
      "                                                                                \r"
     ]
    }
   ],
   "source": [
    "spark.sql(\"select * from bronze.review order by date desc;\").show(5)"
   ]
  },
  {
   "cell_type": "code",
   "execution_count": null,
   "metadata": {},
   "outputs": [],
   "source": []
  }
 ],
 "metadata": {
  "kernelspec": {
   "display_name": "base",
   "language": "python",
   "name": "python3"
  },
  "language_info": {
   "codemirror_mode": {
    "name": "ipython",
    "version": 3
   },
   "file_extension": ".py",
   "mimetype": "text/x-python",
   "name": "python",
   "nbconvert_exporter": "python",
   "pygments_lexer": "ipython3",
   "version": "3.8.15"
  },
  "orig_nbformat": 4
 },
 "nbformat": 4,
 "nbformat_minor": 2
}
